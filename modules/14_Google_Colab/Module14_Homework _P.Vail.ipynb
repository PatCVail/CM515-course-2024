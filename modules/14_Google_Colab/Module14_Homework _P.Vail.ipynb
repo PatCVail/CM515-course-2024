{
  "nbformat": 4,
  "nbformat_minor": 0,
  "metadata": {
    "colab": {
      "provenance": []
    },
    "kernelspec": {
      "name": "python3",
      "display_name": "Python 3"
    },
    "language_info": {
      "name": "python"
    }
  },
  "cells": [
    {
      "cell_type": "code",
      "execution_count": null,
      "metadata": {
        "colab": {
          "base_uri": "https://localhost:8080/"
        },
        "id": "jviYcubNtZdz",
        "outputId": "828c01ec-ee33-4f7c-9e81-a4b285c672bc"
      },
      "outputs": [
        {
          "output_type": "stream",
          "name": "stdout",
          "text": [
            "Original: [2, 4, 6, 4, 10, 12, 6, 4, 2]\n",
            "With loop: [2, 4, 6, 4, 10, 12, 6, 4, 2]\n"
          ]
        }
      ],
      "source": [
        "## Homework Questions\n",
        "# 1. Convert the following code into a loop\n",
        "\n",
        "x = [1,1,2,3,2,5,6,7,8]\n",
        "\n",
        "x[8] = x[0] * 2\n",
        "x[0] = x[1] * 2\n",
        "x[1] = x[2] * 2\n",
        "x[2] = x[3] * 2\n",
        "x[3] = x[4] * 2\n",
        "x[4] = x[5] * 2\n",
        "x[5] = x[6] * 2\n",
        "x[7] = x[8] * 2\n",
        "\n",
        "print(\"Original:\", x)\n",
        "\n",
        "x = [1,1,2,3,2,5,6,7,8]\n",
        "\n",
        "idx1 = [8, 0, 1, 2, 3, 4, 5, 7]\n",
        "idx2 = [0, 1, 2, 3, 4, 5, 6, 8]\n",
        "\n",
        "for i in range(8):\n",
        "  x[idx1[i]] = x[idx2[i]] * 2\n",
        "\n",
        "print(\"With loop:\", x)"
      ]
    },
    {
      "cell_type": "code",
      "source": [
        "!git clone https://github.com/Colorado-State-University-CMB/CM515-course-2024.git"
      ],
      "metadata": {
        "colab": {
          "base_uri": "https://localhost:8080/"
        },
        "id": "XLMR1RM2mJD6",
        "outputId": "15c0d440-2f0f-485f-f458-1f72ea709b8e"
      },
      "execution_count": 1,
      "outputs": [
        {
          "output_type": "stream",
          "name": "stdout",
          "text": [
            "Cloning into 'CM515-course-2024'...\n",
            "remote: Enumerating objects: 1021, done.\u001b[K\n",
            "remote: Counting objects: 100% (449/449), done.\u001b[K\n",
            "remote: Compressing objects: 100% (245/245), done.\u001b[K\n",
            "remote: Total 1021 (delta 247), reused 359 (delta 199), pack-reused 572\u001b[K\n",
            "Receiving objects: 100% (1021/1021), 230.59 MiB | 18.00 MiB/s, done.\n",
            "Resolving deltas: 100% (532/532), done.\n",
            "Updating files: 100% (165/165), done.\n"
          ]
        }
      ]
    },
    {
      "cell_type": "code",
      "source": [
        "# 2. load in the GAPDH template strant from the fasta provided here https://github.com/Colorado-State-University-CMB/CM515-course-2024/tree/main/modules/14_Google_Colab\n",
        "path = \"/content/CM515-course-2024/modules/14_Google_Colab/\"\n",
        "\n",
        "with open(path + 'gapdh.fasta', 'r') as f:\n",
        "    gapdh = f.readlines()\n",
        "\n",
        "seq = gapdh[1]\n",
        "\n"
      ],
      "metadata": {
        "id": "UjGLWNLqt29c"
      },
      "execution_count": 2,
      "outputs": []
    },
    {
      "cell_type": "code",
      "source": [
        "# 3. calculate the GC content of the strant (report as a percenatage)\n",
        "\n",
        "# Initialize GC counter\n",
        "n_gc = 0\n",
        "\n",
        "# Loop through sequence and count G's and C's\n",
        "for base in seq:\n",
        "    if base == 'G' or base == 'C':\n",
        "        n_gc += 1\n",
        "print(\"GC % = \", n_gc / len(seq) * 100)\n"
      ],
      "metadata": {
        "id": "rDTwXprCt3BC",
        "colab": {
          "base_uri": "https://localhost:8080/"
        },
        "outputId": "cf28dad8-baf8-49ab-fba4-a62088344221"
      },
      "execution_count": 3,
      "outputs": [
        {
          "output_type": "stream",
          "name": "stdout",
          "text": [
            "GC % =  54.36573311367381\n"
          ]
        }
      ]
    },
    {
      "cell_type": "code",
      "source": [
        "# 4. Create a function that takes in a dna sequence and finds the reverse compliment of it\n",
        "\n",
        "def reverse_complement(seq):\n",
        "  comp_table = {}\n",
        "  comp_table['A'] = 'T'\n",
        "  comp_table['G'] = 'C'\n",
        "  comp_table['C'] = 'G'\n",
        "  comp_table['T'] = 'A'\n",
        "\n",
        "  rev_comp_seq = \"\"\n",
        "  for base in seq:\n",
        "    rev_comp_seq = comp_table[base] + rev_comp_seq\n",
        "\n",
        "  return(rev_comp_seq)\n"
      ],
      "metadata": {
        "id": "j-3QxgN9t3Es"
      },
      "execution_count": 4,
      "outputs": []
    },
    {
      "cell_type": "code",
      "source": [
        "# 5. Convert the GAPDH template strand to the coding strand\n",
        "\n",
        "rc = reverse_complement(seq)\n",
        "rc"
      ],
      "metadata": {
        "id": "Zmgg9BzGt3IK",
        "colab": {
          "base_uri": "https://localhost:8080/",
          "height": 70
        },
        "outputId": "5471c291-65e9-4848-c23c-ff40b5b3c6b6"
      },
      "execution_count": 5,
      "outputs": [
        {
          "output_type": "execute_result",
          "data": {
            "text/plain": [
              "'GGCACGAGGGACAAAATGGTGAAGGTCGGTGTGAACGGATTTGGCCGTATTGGGCGCCTGGTCACCAGGGCTGCCATTTGCAGTGGCAAAGTGGAGATTGTTGCCATCAACGACCCCTTCATTGACCTCAACTACATGGTCTACATGTTCCAGTATGACTCCACTCACGGCAAATTCAACGGCACAGTCAAGGCCGAGAATGGGAAGCAGGCATCTGAGGGCCCACTGAAGGGCATCTTGGGCTACACTGAGGACCAGGTTGTCTCCTGCGACTTCAACAGCAACTCCCACTCTTCCACCTTCGATGCCGGGGCTGGCATTGCTCTCAATGACAACTTTGTCAAGCTCATTTCCTGGTATGACAATGAATACGGCTACAGCAACAGGGTGGTGGACCTCATGGCCTACATGGCCTCCAAGGAGTAAGAAACCCTGGACCACCCACCCCAGCAAGGACACTGAGCAAGAGAGGCCCTATCCCAACTCGGCCCCCAACACTGAGCATCTCCCTCACAATTTCCATCCCAGACCCCCATAATAACAGGAGGGGCCTAGGGAGCCCTCCCTACTCTCTTGAATACCATCAATAAAGTTCGCTGCACCCACC'"
            ],
            "application/vnd.google.colaboratory.intrinsic+json": {
              "type": "string"
            }
          },
          "metadata": {},
          "execution_count": 5
        }
      ]
    },
    {
      "cell_type": "code",
      "source": [
        "# 6. convert to the mRNA sequence\n",
        "mRNA_seq = rc.replace('T', 'U')\n",
        "mRNA_seq"
      ],
      "metadata": {
        "id": "kOCFY42Qt3K8",
        "colab": {
          "base_uri": "https://localhost:8080/",
          "height": 70
        },
        "outputId": "1e5727a8-220a-45ad-be25-d3e17a933336"
      },
      "execution_count": 7,
      "outputs": [
        {
          "output_type": "execute_result",
          "data": {
            "text/plain": [
              "'GGCACGAGGGACAAAAUGGUGAAGGUCGGUGUGAACGGAUUUGGCCGUAUUGGGCGCCUGGUCACCAGGGCUGCCAUUUGCAGUGGCAAAGUGGAGAUUGUUGCCAUCAACGACCCCUUCAUUGACCUCAACUACAUGGUCUACAUGUUCCAGUAUGACUCCACUCACGGCAAAUUCAACGGCACAGUCAAGGCCGAGAAUGGGAAGCAGGCAUCUGAGGGCCCACUGAAGGGCAUCUUGGGCUACACUGAGGACCAGGUUGUCUCCUGCGACUUCAACAGCAACUCCCACUCUUCCACCUUCGAUGCCGGGGCUGGCAUUGCUCUCAAUGACAACUUUGUCAAGCUCAUUUCCUGGUAUGACAAUGAAUACGGCUACAGCAACAGGGUGGUGGACCUCAUGGCCUACAUGGCCUCCAAGGAGUAAGAAACCCUGGACCACCCACCCCAGCAAGGACACUGAGCAAGAGAGGCCCUAUCCCAACUCGGCCCCCAACACUGAGCAUCUCCCUCACAAUUUCCAUCCCAGACCCCCAUAAUAACAGGAGGGGCCUAGGGAGCCCUCCCUACUCUCUUGAAUACCAUCAAUAAAGUUCGCUGCACCCACC'"
            ],
            "application/vnd.google.colaboratory.intrinsic+json": {
              "type": "string"
            }
          },
          "metadata": {},
          "execution_count": 7
        }
      ]
    },
    {
      "cell_type": "code",
      "source": [
        "# 7. Translate the mRNA\n",
        "# make a function that finds the start codon (AUG), then translates the protein until a stop codon is reached.\n",
        "# stop codons are denoted as \"*\" in the codon table file provided\n",
        "\n",
        "with open(path + 'codon_table.csv', 'r') as f:\n",
        "  f_str = f.read()\n",
        "  print(f_str)\n",
        "f_list = f_str.split(\"\\n\")\n",
        "print(f_list)\n",
        "f_list = [x.split(\",\") for x in f_list]\n",
        "print(f_list)\n",
        "\n",
        "codontab = dict(f_list)\n",
        "print(codontab)\n",
        "\n",
        "def xlate_protein(seq):\n",
        "  start_loc = seq.find('AUG')\n",
        "  seq_fromstart = seq[start_loc:]\n",
        "  result = \"\"\n",
        "  for i in range(0, len(seq_fromstart), 3):\n",
        "    a = seq_fromstart[i:i+3]\n",
        "    codon = codontab[a]\n",
        "    result = result + codon\n",
        "    if codon == '*':\n",
        "      return(result)\n",
        "\n",
        "xlated = xlate_protein(mRNA_seq)\n",
        "xlated"
      ],
      "metadata": {
        "id": "cUEL3pVqt3PJ",
        "colab": {
          "base_uri": "https://localhost:8080/",
          "height": 1000
        },
        "outputId": "b6fb73cd-1fae-4528-fad3-e827d6d818d5"
      },
      "execution_count": 18,
      "outputs": [
        {
          "output_type": "stream",
          "name": "stdout",
          "text": [
            "UCA,S\n",
            "UCC,S\n",
            "UCG,S\n",
            "UCU,S\n",
            "UUC,F\n",
            "UUU,F\n",
            "UUA,L\n",
            "UUG,L\n",
            "UAC,Y\n",
            "UAU,Y\n",
            "UAA,*\n",
            "UAG,*\n",
            "UGC,C\n",
            "UGU,C\n",
            "UGA,*\n",
            "UGG,W\n",
            "CUA,L\n",
            "CUC,L\n",
            "CUG,L\n",
            "CUU,L\n",
            "CCA,P\n",
            "CCC,P\n",
            "CCG,P\n",
            "CCU,P\n",
            "CAC,H\n",
            "CAU,H\n",
            "CAA,Q\n",
            "CAG,Q\n",
            "CGA,R\n",
            "CGC,R\n",
            "CGG,R\n",
            "CGU,R\n",
            "AUA,I\n",
            "AUC,I\n",
            "AUU,I\n",
            "AUG,M\n",
            "ACA,T\n",
            "ACC,T\n",
            "ACG,T\n",
            "ACU,T\n",
            "AAC,N\n",
            "AAU,N\n",
            "AAA,K\n",
            "AAG,K\n",
            "AGC,S\n",
            "AGU,S\n",
            "AGA,R\n",
            "AGG,R\n",
            "GUA,V\n",
            "GUC,V\n",
            "GUG,V\n",
            "GUU,V\n",
            "GCA,A\n",
            "GCC,A\n",
            "GCG,A\n",
            "GCU,A\n",
            "GAC,D\n",
            "GAU,D\n",
            "GAA,E\n",
            "GAG,E\n",
            "GGA,G\n",
            "GGC,G\n",
            "GGG,G\n",
            "GGU,G\n",
            "['UCA,S', 'UCC,S', 'UCG,S', 'UCU,S', 'UUC,F', 'UUU,F', 'UUA,L', 'UUG,L', 'UAC,Y', 'UAU,Y', 'UAA,*', 'UAG,*', 'UGC,C', 'UGU,C', 'UGA,*', 'UGG,W', 'CUA,L', 'CUC,L', 'CUG,L', 'CUU,L', 'CCA,P', 'CCC,P', 'CCG,P', 'CCU,P', 'CAC,H', 'CAU,H', 'CAA,Q', 'CAG,Q', 'CGA,R', 'CGC,R', 'CGG,R', 'CGU,R', 'AUA,I', 'AUC,I', 'AUU,I', 'AUG,M', 'ACA,T', 'ACC,T', 'ACG,T', 'ACU,T', 'AAC,N', 'AAU,N', 'AAA,K', 'AAG,K', 'AGC,S', 'AGU,S', 'AGA,R', 'AGG,R', 'GUA,V', 'GUC,V', 'GUG,V', 'GUU,V', 'GCA,A', 'GCC,A', 'GCG,A', 'GCU,A', 'GAC,D', 'GAU,D', 'GAA,E', 'GAG,E', 'GGA,G', 'GGC,G', 'GGG,G', 'GGU,G']\n",
            "[['UCA', 'S'], ['UCC', 'S'], ['UCG', 'S'], ['UCU', 'S'], ['UUC', 'F'], ['UUU', 'F'], ['UUA', 'L'], ['UUG', 'L'], ['UAC', 'Y'], ['UAU', 'Y'], ['UAA', '*'], ['UAG', '*'], ['UGC', 'C'], ['UGU', 'C'], ['UGA', '*'], ['UGG', 'W'], ['CUA', 'L'], ['CUC', 'L'], ['CUG', 'L'], ['CUU', 'L'], ['CCA', 'P'], ['CCC', 'P'], ['CCG', 'P'], ['CCU', 'P'], ['CAC', 'H'], ['CAU', 'H'], ['CAA', 'Q'], ['CAG', 'Q'], ['CGA', 'R'], ['CGC', 'R'], ['CGG', 'R'], ['CGU', 'R'], ['AUA', 'I'], ['AUC', 'I'], ['AUU', 'I'], ['AUG', 'M'], ['ACA', 'T'], ['ACC', 'T'], ['ACG', 'T'], ['ACU', 'T'], ['AAC', 'N'], ['AAU', 'N'], ['AAA', 'K'], ['AAG', 'K'], ['AGC', 'S'], ['AGU', 'S'], ['AGA', 'R'], ['AGG', 'R'], ['GUA', 'V'], ['GUC', 'V'], ['GUG', 'V'], ['GUU', 'V'], ['GCA', 'A'], ['GCC', 'A'], ['GCG', 'A'], ['GCU', 'A'], ['GAC', 'D'], ['GAU', 'D'], ['GAA', 'E'], ['GAG', 'E'], ['GGA', 'G'], ['GGC', 'G'], ['GGG', 'G'], ['GGU', 'G']]\n",
            "{'UCA': 'S', 'UCC': 'S', 'UCG': 'S', 'UCU': 'S', 'UUC': 'F', 'UUU': 'F', 'UUA': 'L', 'UUG': 'L', 'UAC': 'Y', 'UAU': 'Y', 'UAA': '*', 'UAG': '*', 'UGC': 'C', 'UGU': 'C', 'UGA': '*', 'UGG': 'W', 'CUA': 'L', 'CUC': 'L', 'CUG': 'L', 'CUU': 'L', 'CCA': 'P', 'CCC': 'P', 'CCG': 'P', 'CCU': 'P', 'CAC': 'H', 'CAU': 'H', 'CAA': 'Q', 'CAG': 'Q', 'CGA': 'R', 'CGC': 'R', 'CGG': 'R', 'CGU': 'R', 'AUA': 'I', 'AUC': 'I', 'AUU': 'I', 'AUG': 'M', 'ACA': 'T', 'ACC': 'T', 'ACG': 'T', 'ACU': 'T', 'AAC': 'N', 'AAU': 'N', 'AAA': 'K', 'AAG': 'K', 'AGC': 'S', 'AGU': 'S', 'AGA': 'R', 'AGG': 'R', 'GUA': 'V', 'GUC': 'V', 'GUG': 'V', 'GUU': 'V', 'GCA': 'A', 'GCC': 'A', 'GCG': 'A', 'GCU': 'A', 'GAC': 'D', 'GAU': 'D', 'GAA': 'E', 'GAG': 'E', 'GGA': 'G', 'GGC': 'G', 'GGG': 'G', 'GGU': 'G'}\n"
          ]
        },
        {
          "output_type": "execute_result",
          "data": {
            "text/plain": [
              "'MVKVGVNGFGRIGRLVTRAAICSGKVEIVAINDPFIDLNYMVYMFQYDSTHGKFNGTVKAENGKQASEGPLKGILGYTEDQVVSCDFNSNSHSSTFDAGAGIALNDNFVKLISWYDNEYGYSNRVVDLMAYMASKE*'"
            ],
            "application/vnd.google.colaboratory.intrinsic+json": {
              "type": "string"
            }
          },
          "metadata": {},
          "execution_count": 18
        }
      ]
    },
    {
      "cell_type": "code",
      "source": [
        "# 8. Go to this website, select 2 problems and complete them https://rosalind.info/problems/list-view/"
      ],
      "metadata": {
        "id": "K6jGkxf2t3Sh"
      },
      "execution_count": null,
      "outputs": []
    }
  ]
}